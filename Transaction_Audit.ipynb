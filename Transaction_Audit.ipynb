{
  "metadata": {
    "kernelspec": {
      "name": "python",
      "display_name": "Python (Pyodide)",
      "language": "python"
    },
    "language_info": {
      "codemirror_mode": {
        "name": "python",
        "version": 3
      },
      "file_extension": ".py",
      "mimetype": "text/x-python",
      "name": "python",
      "nbconvert_exporter": "python",
      "pygments_lexer": "ipython3",
      "version": "3.8"
    }
  },
  "nbformat_minor": 5,
  "nbformat": 4,
  "cells": [
    {
      "id": "69ce9f28-fd01-4da6-800a-9978e9bf8546",
      "cell_type": "markdown",
      "source": "# 通过 BscScan API 获取钱包交易记录",
      "metadata": {}
    },
    {
      "id": "097e108f-4448-4864-87b6-748c6eddb6bd",
      "cell_type": "code",
      "source": "import requests\nimport time",
      "metadata": {
        "trusted": true
      },
      "outputs": [],
      "execution_count": 85
    },
    {
      "id": "65c53a39-25b5-43a1-8bcb-7a96a435bbaf",
      "cell_type": "code",
      "source": "API_KEY = \"SWU95Q2N98X2BYXR88B9KZKKDQ41YE3WWY\"\nADDRESS = \"0xd3a22590f8243f8e83ac230d1842c9af0404c4a1\"\nURL = f\"https://api.bscscan.com/api?module=account&action=txlist&address={ADDRESS}&startblock=0&endblock=99999999&sort=desc&apikey={API_KEY}\"",
      "metadata": {
        "trusted": true
      },
      "outputs": [],
      "execution_count": 9
    },
    {
      "id": "a93d7ea9-b3e5-4f2c-a272-38f4ad431b8b",
      "cell_type": "code",
      "source": "def fetch_transactions():\n    retries = 3\n    for i in range(retries):\n        try:\n            response = requests.get(URL, timeout=10)\n            response.raise_for_status()  # 抛出 HTTP 错误\n            return response.json()\n        except requests.exceptions.RequestException as e:\n            print(f\"请求失败，第 {i+1} 次尝试，错误: {e}\")\n            time.sleep(2)  # 等待2秒重试\n    return None",
      "metadata": {
        "trusted": true
      },
      "outputs": [],
      "execution_count": 6
    },
    {
      "id": "6266b71c-7c52-4f26-aadf-ad6fdf97ca06",
      "cell_type": "code",
      "source": "data = fetch_transactions()\nif data:\n    print(\"成功获取交易数据:\\n\")\n    for transaction in data['result'][:5]:\n        print(transaction)\n        print()\nelse:\n    print(\"获取数据失败，请检查 API Key 或网络\")",
      "metadata": {
        "trusted": true
      },
      "outputs": [
        {
          "name": "stdout",
          "output_type": "stream",
          "text": "成功获取交易数据:\n\n{'blockNumber': '46242945', 'timeStamp': '1738310162', 'hash': '0x0aec27e09a3c5a3474b9f58b2bad61e93c2b46566c092fbc1a27f50dd5495628', 'nonce': '175', 'blockHash': '0xe440493579edeaf2ebb2f69bf2823b8889723cf69fd7929a5a2819e8d890ce4e', 'transactionIndex': '91', 'from': '0xd3a22590f8243f8e83ac230d1842c9af0404c4a1', 'to': '0x0d8ce2a99bb6e3b7db580ed848240e4a0f9ae153', 'value': '0', 'gas': '71946', 'gasPrice': '1000000000', 'isError': '0', 'txreceipt_status': '1', 'input': '0xa9059cbb00000000000000000000000008439901c2bb071cd0812ed329675c965743408300000000000000000000000000000000000000000000a968163f0a57b4000000', 'contractAddress': '', 'cumulativeGasUsed': '6176571', 'gasUsed': '41783', 'confirmations': '24688', 'methodId': '0xa9059cbb', 'functionName': 'transfer(address _to, uint256 _value)'}\n\n{'blockNumber': '46160241', 'timeStamp': '1738062029', 'hash': '0x9a232c8fe83c0cf8e0dd042a36bc0c3af88b29b04098c5c0623bc6239ec4aa54', 'nonce': '1947', 'blockHash': '0x97924b0b6c705ad7a64bdb37829014458251fdb683eee3596e2b2dc1b8e54ec1', 'transactionIndex': '17', 'from': '0x08439901c2bb071cd0812ed329675c9657434083', 'to': '0xd3a22590f8243f8e83ac230d1842c9af0404c4a1', 'value': '4846690000000000000000', 'gas': '207128', 'gasPrice': '2000000000', 'isError': '0', 'txreceipt_status': '1', 'input': '0x', 'contractAddress': '', 'cumulativeGasUsed': '2269639', 'gasUsed': '21000', 'confirmations': '107392', 'methodId': '0x', 'functionName': ''}\n\n{'blockNumber': '46126623', 'timeStamp': '1737961174', 'hash': '0x3e025f30119ec86bdddd83777f33bf7fdaacc48e495072dea8a1e84b29f7680f', 'nonce': '174', 'blockHash': '0x53724939ed9e3423716f233a9d0ffb98a84c571b7752f10ed49731aa89bdceb2', 'transactionIndex': '42', 'from': '0xd3a22590f8243f8e83ac230d1842c9af0404c4a1', 'to': '0x55d398326f99059ff775485246999027b3197955', 'value': '0', 'gas': '64539', 'gasPrice': '1000000000', 'isError': '0', 'txreceipt_status': '1', 'input': '0xa9059cbb00000000000000000000000008439901c2bb071cd0812ed329675c9657434083000000000000000000000000000000000000000000048cab98f1671af5800000', 'contractAddress': '', 'cumulativeGasUsed': '5419952', 'gasUsed': '34539', 'confirmations': '141010', 'methodId': '0xa9059cbb', 'functionName': 'transfer(address _to, uint256 _value)'}\n\n{'blockNumber': '46097444', 'timeStamp': '1737873630', 'hash': '0x8c272788edbbd09ec73cd4cd410696c7ee5ccd46f29d10c95e7e114b6b0a8439', 'nonce': '1839', 'blockHash': '0x112449d84245ca7b36234c4d801f25d1ff87d6d78eacab22bf595478e37a942b', 'transactionIndex': '17', 'from': '0x08439901c2bb071cd0812ed329675c9657434083', 'to': '0xd3a22590f8243f8e83ac230d1842c9af0404c4a1', 'value': '4895959000000000000000', 'gas': '207128', 'gasPrice': '2000000000', 'isError': '0', 'txreceipt_status': '1', 'input': '0x', 'contractAddress': '', 'cumulativeGasUsed': '1256675', 'gasUsed': '21000', 'confirmations': '170189', 'methodId': '0x', 'functionName': ''}\n\n{'blockNumber': '46044391', 'timeStamp': '1737714471', 'hash': '0x4a8aa204f619e1ffe0274bb23eef6858cc0c21c51c01e8ea906ac6026d362690', 'nonce': '173', 'blockHash': '0xdfb6ba9db6b72f09059b9f28ab6fab88c0633dd9ab82802abf47fdd840eaca66', 'transactionIndex': '64', 'from': '0xd3a22590f8243f8e83ac230d1842c9af0404c4a1', 'to': '0x55d398326f99059ff775485246999027b3197955', 'value': '0', 'gas': '64527', 'gasPrice': '1000000000', 'isError': '0', 'txreceipt_status': '1', 'input': '0xa9059cbb00000000000000000000000008439901c2bb071cd0812ed329675c96574340830000000000000000000000000000000000000000001232ae63c59c6bd6000000', 'contractAddress': '', 'cumulativeGasUsed': '6903670', 'gasUsed': '34527', 'confirmations': '223242', 'methodId': '0xa9059cbb', 'functionName': 'transfer(address _to, uint256 _value)'}\n\n"
        }
      ],
      "execution_count": 54
    },
    {
      "id": "540e1e13-6086-4519-8dfc-fc4d404ee055",
      "cell_type": "code",
      "source": "if data and data.get(\"status\") == \"1\":\n    # Extract transaction details\n    transactions = data.get(\"result\", [])\n    print(f\"Fetched {len(transactions)} transactions.\")",
      "metadata": {
        "trusted": true
      },
      "outputs": [
        {
          "name": "stdout",
          "output_type": "stream",
          "text": "Fetched 241 transactions.\n"
        }
      ],
      "execution_count": 55
    },
    {
      "id": "3e94e425-1880-4589-889b-1b811810ba34",
      "cell_type": "markdown",
      "source": "# 将获取的数据放入csv，并导入人工交易记录",
      "metadata": {}
    },
    {
      "id": "2687028a-271e-4b0a-96e3-9d50bb318fef",
      "cell_type": "code",
      "source": "import csv\n\ndef save_transactions_to_csv(transactions, filename=\"transactions.csv\"):\n    fieldnames = [\"hash\", \"from\", \"to\", \"value\", \"timestamp\"]\n    with open(filename, mode='w', newline='') as file:\n        writer = csv.DictWriter(file, fieldnames=fieldnames)\n        writer.writeheader()\n        for txn in transactions:\n            writer.writerow({\n                \"hash\": txn[\"hash\"],\n                \"from\": txn[\"from\"],\n                \"to\": txn[\"to\"],\n                \"value\": txn[\"value\"],\n                \"timestamp\": txn[\"timeStamp\"]\n            })\n",
      "metadata": {
        "trusted": true
      },
      "outputs": [],
      "execution_count": 61
    },
    {
      "id": "489fca54-85b7-4adc-a9a5-58f863deaa45",
      "cell_type": "code",
      "source": "save_transactions_to_csv(data['result'][:20])\nprint('cvs filed saved, check directory')",
      "metadata": {
        "trusted": true,
        "scrolled": true
      },
      "outputs": [
        {
          "name": "stdout",
          "output_type": "stream",
          "text": "cvs filed saved, check directory\n"
        }
      ],
      "execution_count": 57
    },
    {
      "id": "4220b845-8290-4ad5-81b1-09d7a2ce0822",
      "cell_type": "code",
      "source": "import pandas as pd\n\n# Load the internal transaction data\ninternal_data = pd.read_csv(\"internal_data.csv\")\nprint('internal_data is loaded')",
      "metadata": {
        "trusted": true
      },
      "outputs": [
        {
          "name": "stdout",
          "output_type": "stream",
          "text": "internal_data is loaded\n"
        }
      ],
      "execution_count": 80
    },
    {
      "id": "c53a6d4c-590f-40a8-b3a7-778042ebe8fc",
      "cell_type": "code",
      "source": "print('the \"reported_value\" is our manual input')\nprint(internal_data[:3])\n",
      "metadata": {
        "trusted": true
      },
      "outputs": [
        {
          "name": "stdout",
          "output_type": "stream",
          "text": "the \"reported_value\" is our manual input\n                                                hash  \\\n0  0x0aec27e09a3c5a3474b9f58b2bad61e93c2b46566c09...   \n1  0x9a232c8fe83c0cf8e0dd042a36bc0c3af88b29b04098...   \n2  0x3e025f30119ec86bdddd83777f33bf7fdaacc48e4950...   \n\n                                         from  \\\n0  0xd3a22590f8243f8e83ac230d1842c9af0404c4a1   \n1  0x08439901c2bb071cd0812ed329675c9657434083   \n2  0xd3a22590f8243f8e83ac230d1842c9af0404c4a1   \n\n                                           to   timestamp trader_name  \\\n0  0x0d8ce2a99bb6e3b7db580ed848240e4a0f9ae153  1738310162     TraderA   \n1  0xd3a22590f8243f8e83ac230d1842c9af0404c4a1  1738062029     TraderB   \n2  0x55d398326f99059ff775485246999027b3197955  1737961174     TraderC   \n\n           reported_value  \n0                       0  \n1  4846690000000000000000  \n2                       0  \n"
        }
      ],
      "execution_count": 81
    },
    {
      "id": "2e5122ea-7bee-4207-aa52-30a2021562f8",
      "cell_type": "markdown",
      "source": "# 通过pandas merge 以及 valuematch 来检查交易额度是否一致",
      "metadata": {}
    },
    {
      "id": "fb2a024d-d630-45c7-a2ad-359cc69456d3",
      "cell_type": "code",
      "source": "blockchain_data = pd.DataFrame(data['result'])\n\nmerged_data = pd.merge(blockchain_data, internal_data, on='hash', how='inner')\nprint(merged_data[:3])",
      "metadata": {
        "trusted": true,
        "scrolled": true
      },
      "outputs": [
        {
          "name": "stdout",
          "output_type": "stream",
          "text": "  blockNumber   timeStamp                                               hash  \\\n0    46242945  1738310162  0x0aec27e09a3c5a3474b9f58b2bad61e93c2b46566c09...   \n1    46160241  1738062029  0x9a232c8fe83c0cf8e0dd042a36bc0c3af88b29b04098...   \n2    46126623  1737961174  0x3e025f30119ec86bdddd83777f33bf7fdaacc48e4950...   \n\n  nonce                                          blockHash transactionIndex  \\\n0   175  0xe440493579edeaf2ebb2f69bf2823b8889723cf69fd7...               91   \n1  1947  0x97924b0b6c705ad7a64bdb37829014458251fdb683ee...               17   \n2   174  0x53724939ed9e3423716f233a9d0ffb98a84c571b7752...               42   \n\n                                       from_x  \\\n0  0xd3a22590f8243f8e83ac230d1842c9af0404c4a1   \n1  0x08439901c2bb071cd0812ed329675c9657434083   \n2  0xd3a22590f8243f8e83ac230d1842c9af0404c4a1   \n\n                                         to_x                   value     gas  \\\n0  0x0d8ce2a99bb6e3b7db580ed848240e4a0f9ae153                       0   71946   \n1  0xd3a22590f8243f8e83ac230d1842c9af0404c4a1  4846690000000000000000  207128   \n2  0x55d398326f99059ff775485246999027b3197955                       0   64539   \n\n   ... cumulativeGasUsed gasUsed confirmations    methodId  \\\n0  ...           6176571   41783         24688  0xa9059cbb   \n1  ...           2269639   21000        107392          0x   \n2  ...           5419952   34539        141010  0xa9059cbb   \n\n                            functionName  \\\n0  transfer(address _to, uint256 _value)   \n1                                          \n2  transfer(address _to, uint256 _value)   \n\n                                       from_y  \\\n0  0xd3a22590f8243f8e83ac230d1842c9af0404c4a1   \n1  0x08439901c2bb071cd0812ed329675c9657434083   \n2  0xd3a22590f8243f8e83ac230d1842c9af0404c4a1   \n\n                                         to_y   timestamp trader_name  \\\n0  0x0d8ce2a99bb6e3b7db580ed848240e4a0f9ae153  1738310162     TraderA   \n1  0xd3a22590f8243f8e83ac230d1842c9af0404c4a1  1738062029     TraderB   \n2  0x55d398326f99059ff775485246999027b3197955  1737961174     TraderC   \n\n           reported_value  \n0                       0  \n1  4846690000000000000000  \n2                       0  \n\n[3 rows x 25 columns]\n"
        }
      ],
      "execution_count": 82
    },
    {
      "id": "6261cf54-6702-445e-82fd-c0c78b76882b",
      "cell_type": "markdown",
      "source": "# 成功发现一笔交易额度差异",
      "metadata": {}
    },
    {
      "id": "05c1e312-66c7-42af-954a-cc3a772fc3d4",
      "cell_type": "code",
      "source": "# Compare the values (note that values might need to be in the same unit)\nmerged_data['value_match'] = merged_data['value'] == merged_data['reported_value']\n\n# Print the rows where there is a discrepancy\ndiscrepancies = merged_data[merged_data['value_match'] == False]\nprint(discrepancies)",
      "metadata": {
        "trusted": true,
        "scrolled": true
      },
      "outputs": [
        {
          "name": "stdout",
          "output_type": "stream",
          "text": "  blockNumber   timeStamp                                               hash  \\\n7    45921421  1737345552  0x738d3c05d4afb172e3a1d50a8cee8c00368a1e13a0ed...   \n\n  nonce                                          blockHash transactionIndex  \\\n7     2  0xcabdc88ccc528547950914d04cb98deb840e4675bcb7...               51   \n\n                                       from_x  \\\n7  0x084384853199d910d35a0730208af2e5d4234083   \n\n                                         to_x          value    gas  ...  \\\n7  0xd3a22590f8243f8e83ac230d1842c9af0404c4a1  4000000000000  21000  ...   \n\n  gasUsed confirmations methodId functionName  \\\n7   21000        346212       0x                \n\n                                       from_y  \\\n7  0x084384853199d910d35a0730208af2e5d4234083   \n\n                                         to_y   timestamp trader_name  \\\n7  0xd3a22590f8243f8e83ac230d1842c9af0404c4a1  1737345552     TraderH   \n\n  reported_value value_match  \n7  3999999999999       False  \n\n[1 rows x 26 columns]\n"
        }
      ],
      "execution_count": 84
    },
    {
      "id": "675c23c3-d09d-475c-92fc-9f5cb51108d7",
      "cell_type": "markdown",
      "source": "# 最后，如有需要可以update交易数据",
      "metadata": {}
    },
    {
      "id": "757136b3-9794-4874-a173-d4921da61ba1",
      "cell_type": "code",
      "source": "'''\n# If the discrepancy is found and corrected\n\ninternal_data.loc[internal_data['hash'] == discrepancies['hash'].iloc[0], 'value'] = correct_value\n\n# rerun audit\ndiscrepancies = merged_data[merged_data['value_match'] == False]\nprint(discrepancies)\n'''",
      "metadata": {
        "trusted": true
      },
      "outputs": [],
      "execution_count": null
    }
  ]
}